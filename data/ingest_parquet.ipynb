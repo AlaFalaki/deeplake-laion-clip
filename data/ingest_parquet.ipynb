{
 "cells": [
  {
   "cell_type": "markdown",
   "metadata": {},
   "source": [
    "# Ingest LAION-2B Parquet file into Deep Lake\n",
    "\n",
    "1. We will demostrate simple ingestion of a parquet file\n",
    "2. Adding links to URL images to treat as numpy arrays\n",
    "3. Running a query using TQL and creating a view\n",
    "4. Feeding into a pytorch dataloader "
   ]
  },
  {
   "cell_type": "markdown",
   "metadata": {},
   "source": [
    "### 1. Download and load a parquet file"
   ]
  },
  {
   "cell_type": "code",
   "execution_count": null,
   "metadata": {},
   "outputs": [],
   "source": [
    "!wget https://huggingface.co/datasets/laion/laion2B-en/resolve/main/part-00000-5114fd87-297e-42b0-9d11-50f1df323dfa-c000.snappy.parquet"
   ]
  },
  {
   "cell_type": "code",
   "execution_count": 1,
   "metadata": {},
   "outputs": [],
   "source": [
    "import pandas as pd\n",
    "\n",
    "df = pd.read_parquet('part-00000-5114fd87-297e-42b0-9d11-50f1df323dfa-c000.snappy.parquet')"
   ]
  },
  {
   "cell_type": "markdown",
   "metadata": {},
   "source": [
    "### 2. Ingest into Deep Lake and Linkify images"
   ]
  },
  {
   "cell_type": "code",
   "execution_count": 12,
   "metadata": {},
   "outputs": [],
   "source": [
    "rows = 100_000\n",
    "path = './dataset/laion'"
   ]
  },
  {
   "cell_type": "code",
   "execution_count": 3,
   "metadata": {},
   "outputs": [
    {
     "data": {
      "text/plain": [
       "'firstdbf9474d461a19e9333c2fd19b46115348f'"
      ]
     },
     "execution_count": 3,
     "metadata": {},
     "output_type": "execute_result"
    }
   ],
   "source": [
    "import deeplake\n",
    "\n",
    "ds = deeplake.ingest_dataframe(df[:rows], path, overwrite=True, progressbar=False)\n",
    "ds.commit()"
   ]
  },
  {
   "cell_type": "code",
   "execution_count": null,
   "metadata": {},
   "outputs": [],
   "source": [
    "ds.create_tensor('images', htype='link[image]', sample_compression='jpeg', verify=False, create_shape_tensor=False, create_sample_info_tensor=False, )\n",
    "ds.images.extend([None for _ in range(rows)])"
   ]
  },
  {
   "cell_type": "markdown",
   "metadata": {},
   "source": [
    "#### We are using deeplake.compute transforms that can scale to a cluster"
   ]
  },
  {
   "cell_type": "code",
   "execution_count": 4,
   "metadata": {},
   "outputs": [
    {
     "name": "stderr",
     "output_type": "stream",
     "text": [
      "Evaluating linkify: 100%|██████████| 100000/100000 [00:08<00:00, 11519.77it/s]\n"
     ]
    },
    {
     "data": {
      "text/plain": [
       "'781624fed6da34dbcfd1d9bccc4a4dd668f43abf'"
      ]
     },
     "execution_count": 4,
     "metadata": {},
     "output_type": "execute_result"
    }
   ],
   "source": [
    "@deeplake.compute\n",
    "def linkify(sample_in, sample_out): \n",
    "    sample_out['images'].append(deeplake.link(sample_in['URL'].text()))\n",
    "\n",
    "linkify().eval(ds, scheduler=\"processed\", num_workers=12, progressbar=True, skip_ok=True)\n",
    "ds.commit()"
   ]
  },
  {
   "cell_type": "code",
   "execution_count": 6,
   "metadata": {},
   "outputs": [
    {
     "data": {
      "text/plain": [
       "204.7248532948533"
      ]
     },
     "execution_count": 6,
     "metadata": {},
     "output_type": "execute_result"
    }
   ],
   "source": [
    "ds['images'][0].numpy().mean()"
   ]
  },
  {
   "cell_type": "markdown",
   "metadata": {},
   "source": []
  },
  {
   "cell_type": "code",
   "execution_count": 7,
   "metadata": {},
   "outputs": [
    {
     "name": "stderr",
     "output_type": "stream",
     "text": [
      "/home/davit/.local/lib/python3.9/site-packages/tqdm/auto.py:22: TqdmWarning: IProgress not found. Please update jupyter and ipywidgets. See https://ipywidgets.readthedocs.io/en/stable/user_install.html\n",
      "  from .autonotebook import tqdm as notebook_tqdm\n"
     ]
    }
   ],
   "source": [
    "ds_noNSFW = ds.query(\"select * where NSFW == 'UNLIKELY'\")\n",
    "ds_noNSFW.save_view(id=\"noNSFW\")"
   ]
  },
  {
   "cell_type": "code",
   "execution_count": 8,
   "metadata": {},
   "outputs": [
    {
     "data": {
      "text/plain": [
       "93082"
      ]
     },
     "execution_count": 8,
     "metadata": {},
     "output_type": "execute_result"
    }
   ],
   "source": [
    "len(ds_noNSFW)"
   ]
  },
  {
   "cell_type": "markdown",
   "metadata": {},
   "source": [
    "### 4. Load from another machine and feed into a datalaoder "
   ]
  },
  {
   "cell_type": "code",
   "execution_count": 14,
   "metadata": {},
   "outputs": [
    {
     "name": "stdout",
     "output_type": "stream",
     "text": [
      "./dataset/laion loaded successfully.\n",
      "This dataset can be visualized in Jupyter Notebook by ds.visualize().\n"
     ]
    }
   ],
   "source": [
    "ds = deeplake.load(path, read_only=True)\n",
    "ds_view = ds.load_view(\"noNSFW\", tensors=[\"images\", \"TEXT\"], num_workers=8,  scheduler='processed')"
   ]
  },
  {
   "cell_type": "code",
   "execution_count": 17,
   "metadata": {},
   "outputs": [
    {
     "name": "stderr",
     "output_type": "stream",
     "text": [
      "./dataset/laion: 2912it [00:19, 152.26it/s]                          \n"
     ]
    }
   ],
   "source": [
    "dataloader = ds_view.pytorch(num_workers = 8, \n",
    "                          shuffle = False,\n",
    "                          use_progress_bar=True, \n",
    "                          tensors = ['TEXT', 'URL'],\n",
    "                          batch_size = 32)\n",
    "\n",
    "for el in dataloader:\n",
    "  pass"
   ]
  },
  {
   "cell_type": "code",
   "execution_count": null,
   "metadata": {},
   "outputs": [],
   "source": []
  }
 ],
 "metadata": {
  "kernelspec": {
   "display_name": "Python 3.9.7 ('base')",
   "language": "python",
   "name": "python3"
  },
  "language_info": {
   "codemirror_mode": {
    "name": "ipython",
    "version": 3
   },
   "file_extension": ".py",
   "mimetype": "text/x-python",
   "name": "python",
   "nbconvert_exporter": "python",
   "pygments_lexer": "ipython3",
   "version": "3.9.7"
  },
  "orig_nbformat": 4,
  "vscode": {
   "interpreter": {
    "hash": "7b14174bb6f9d4680b62ac2a6390e1ce94fbfabf172a10844870451d539c58d6"
   }
  }
 },
 "nbformat": 4,
 "nbformat_minor": 2
}
