{
 "cells": [
  {
   "cell_type": "code",
   "execution_count": 1,
   "metadata": {},
   "outputs": [
    {
     "name": "stdout",
     "output_type": "stream",
     "text": [
      "--2022-11-15 00:01:43--  https://huggingface.co/datasets/laion/laion2B-en/resolve/main/part-00000-5114fd87-297e-42b0-9d11-50f1df323dfa-c000.snappy.parquet\n",
      "Resolving huggingface.co (huggingface.co)... 2600:1f18:147f:e850:a681:3798:f266:b3a5, 2600:1f18:147f:e800:2c69:f606:843a:b5c2, 34.206.231.20, ...\n",
      "Connecting to huggingface.co (huggingface.co)|2600:1f18:147f:e850:a681:3798:f266:b3a5|:443... failed: No route to host.\n",
      "Connecting to huggingface.co (huggingface.co)|2600:1f18:147f:e800:2c69:f606:843a:b5c2|:443... connected.\n",
      "HTTP request sent, awaiting response... 302 Found\n",
      "Location: https://cdn-lfs.huggingface.co/datasets/laion/laion2B-en/cc66388dcb64073d6ccd7a957b3a7bf36ad1feb686223b34d35ac137a83f27c7?response-content-disposition=attachment%3B%20filename%3D%22part-00000-5114fd87-297e-42b0-9d11-50f1df323dfa-c000.snappy.parquet%22&Expires=1668757557&Policy=eyJTdGF0ZW1lbnQiOlt7IlJlc291cmNlIjoiaHR0cHM6Ly9jZG4tbGZzLmh1Z2dpbmdmYWNlLmNvL2RhdGFzZXRzL2xhaW9uL2xhaW9uMkItZW4vY2M2NjM4OGRjYjY0MDczZDZjY2Q3YTk1N2IzYTdiZjM2YWQxZmViNjg2MjIzYjM0ZDM1YWMxMzdhODNmMjdjNz9yZXNwb25zZS1jb250ZW50LWRpc3Bvc2l0aW9uPWF0dGFjaG1lbnQlM0IlMjBmaWxlbmFtZSUzRCUyMnBhcnQtMDAwMDAtNTExNGZkODctMjk3ZS00MmIwLTlkMTEtNTBmMWRmMzIzZGZhLWMwMDAuc25hcHB5LnBhcnF1ZXQlMjIiLCJDb25kaXRpb24iOnsiRGF0ZUxlc3NUaGFuIjp7IkFXUzpFcG9jaFRpbWUiOjE2Njg3NTc1NTd9fX1dfQ__&Signature=HXj~DRgIVfoXl5GytvFd9A5TyvYwVxRGfZynNfJT2~2NlDHORV8C7jCTDiC0WVS8ubSugbIiFJ4XIGEIipgfKxyjIcVZf5jARCogrIs8AY4zIIGTzF4V6X7HqA3HTdLsOCop0cUFxYIuaj~Ul2iVr2e5BIZslNRfhsoR4H7pq0s7CEQHrIcFA3iT6eB~bc1P8-ADaJ~0z9brWMfeiy0td9jXdDlyqOFQTD1emk8~kqG7kvHWsrYctCdy3q6bNm5x3dEpirlhEdtLc4D2W~jUqORqRFT4f2sH3lDByDnxT9XqqwGA~otxj3AD-qZfceO73TmUHGkvnwtOm6y~04GaWg__&Key-Pair-Id=KVTP0A1DKRTAX [following]\n",
      "--2022-11-15 00:01:44--  https://cdn-lfs.huggingface.co/datasets/laion/laion2B-en/cc66388dcb64073d6ccd7a957b3a7bf36ad1feb686223b34d35ac137a83f27c7?response-content-disposition=attachment%3B%20filename%3D%22part-00000-5114fd87-297e-42b0-9d11-50f1df323dfa-c000.snappy.parquet%22&Expires=1668757557&Policy=eyJTdGF0ZW1lbnQiOlt7IlJlc291cmNlIjoiaHR0cHM6Ly9jZG4tbGZzLmh1Z2dpbmdmYWNlLmNvL2RhdGFzZXRzL2xhaW9uL2xhaW9uMkItZW4vY2M2NjM4OGRjYjY0MDczZDZjY2Q3YTk1N2IzYTdiZjM2YWQxZmViNjg2MjIzYjM0ZDM1YWMxMzdhODNmMjdjNz9yZXNwb25zZS1jb250ZW50LWRpc3Bvc2l0aW9uPWF0dGFjaG1lbnQlM0IlMjBmaWxlbmFtZSUzRCUyMnBhcnQtMDAwMDAtNTExNGZkODctMjk3ZS00MmIwLTlkMTEtNTBmMWRmMzIzZGZhLWMwMDAuc25hcHB5LnBhcnF1ZXQlMjIiLCJDb25kaXRpb24iOnsiRGF0ZUxlc3NUaGFuIjp7IkFXUzpFcG9jaFRpbWUiOjE2Njg3NTc1NTd9fX1dfQ__&Signature=HXj~DRgIVfoXl5GytvFd9A5TyvYwVxRGfZynNfJT2~2NlDHORV8C7jCTDiC0WVS8ubSugbIiFJ4XIGEIipgfKxyjIcVZf5jARCogrIs8AY4zIIGTzF4V6X7HqA3HTdLsOCop0cUFxYIuaj~Ul2iVr2e5BIZslNRfhsoR4H7pq0s7CEQHrIcFA3iT6eB~bc1P8-ADaJ~0z9brWMfeiy0td9jXdDlyqOFQTD1emk8~kqG7kvHWsrYctCdy3q6bNm5x3dEpirlhEdtLc4D2W~jUqORqRFT4f2sH3lDByDnxT9XqqwGA~otxj3AD-qZfceO73TmUHGkvnwtOm6y~04GaWg__&Key-Pair-Id=KVTP0A1DKRTAX\n",
      "Resolving cdn-lfs.huggingface.co (cdn-lfs.huggingface.co)... 2600:9000:24bb:9000:11:f807:5180:93a1, 2600:9000:24bb:8200:11:f807:5180:93a1, 2600:9000:24bb:7800:11:f807:5180:93a1, ...\n",
      "Connecting to cdn-lfs.huggingface.co (cdn-lfs.huggingface.co)|2600:9000:24bb:9000:11:f807:5180:93a1|:443... connected.\n",
      "HTTP request sent, awaiting response... 200 OK\n",
      "Length: 2697760321 (2.5G) [application/octet-stream]\n",
      "Saving to: ‘part-00000-5114fd87-297e-42b0-9d11-50f1df323dfa-c000.snappy.parquet’\n",
      "\n",
      "part-00000-5114fd87 100%[===================>]   2.51G  48.4MB/s    in 57s     \n",
      "\n",
      "2022-11-15 00:02:42 (44.7 MB/s) - ‘part-00000-5114fd87-297e-42b0-9d11-50f1df323dfa-c000.snappy.parquet’ saved [2697760321/2697760321]\n",
      "\n"
     ]
    }
   ],
   "source": [
    "!wget https://huggingface.co/datasets/laion/laion2B-en/resolve/main/part-00000-5114fd87-297e-42b0-9d11-50f1df323dfa-c000.snappy.parquet"
   ]
  },
  {
   "cell_type": "code",
   "execution_count": null,
   "metadata": {},
   "outputs": [],
   "source": [
    "import pandas as pd\n",
    "df = pd.read_parquet('part-00000-5114fd87-297e-42b0-9d11-50f1df323dfa-c000.snappy.parquet')"
   ]
  },
  {
   "cell_type": "code",
   "execution_count": null,
   "metadata": {},
   "outputs": [],
   "source": [
    "import deeplake\n",
    "ds = deeplake.ingest_dataframe(df[:100_000], \"./dataset/laion\", overwrite=True, progressbar=False)"
   ]
  },
  {
   "cell_type": "code",
   "execution_count": null,
   "metadata": {},
   "outputs": [],
   "source": [
    "ds.query(\"select * where NSFW == 'UNLIKELY'\").save_view(id=\"noNSFW\")"
   ]
  },
  {
   "cell_type": "code",
   "execution_count": null,
   "metadata": {},
   "outputs": [],
   "source": [
    "ds_view = ds.load_view(\"noNSFW\", optimize=True, tensors=[\"URL\", \"TEXT\"], num_workers=8,  scheduler='processed')"
   ]
  },
  {
   "cell_type": "code",
   "execution_count": null,
   "metadata": {},
   "outputs": [],
   "source": [
    "dataloader = ds_view.pytorch(num_workers = 8, \n",
    "                          shuffle = False,\n",
    "                          use_progress_bar=True, \n",
    "                          tensors = ['TEXT', 'URL'],\n",
    "                          batch_size = 32)\n",
    "\n",
    "for el in dataloader:\n",
    "  pass"
   ]
  }
 ],
 "metadata": {
  "kernelspec": {
   "display_name": "Python 3.9.7 ('base')",
   "language": "python",
   "name": "python3"
  },
  "language_info": {
   "codemirror_mode": {
    "name": "ipython",
    "version": 3
   },
   "file_extension": ".py",
   "mimetype": "text/x-python",
   "name": "python",
   "nbconvert_exporter": "python",
   "pygments_lexer": "ipython3",
   "version": "3.9.7"
  },
  "orig_nbformat": 4,
  "vscode": {
   "interpreter": {
    "hash": "7b14174bb6f9d4680b62ac2a6390e1ce94fbfabf172a10844870451d539c58d6"
   }
  }
 },
 "nbformat": 4,
 "nbformat_minor": 2
}
